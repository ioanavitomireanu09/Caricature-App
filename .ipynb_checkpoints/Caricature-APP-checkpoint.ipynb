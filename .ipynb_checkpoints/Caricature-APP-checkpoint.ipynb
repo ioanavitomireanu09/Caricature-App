{
 "cells": [
  {
   "cell_type": "code",
   "execution_count": null,
   "metadata": {},
   "outputs": [
    {
     "name": "stdout",
     "output_type": "stream",
     "text": [
      "Found 1 faces!\n"
     ]
    }
   ],
   "source": [
    "import cv2\n",
    "import numpy as np\n",
    "import sys\n",
    "from PIL import Image\n",
    "from imutils import face_utils\n",
    "import argparse\n",
    "import imutils\n",
    "\n",
    "def caricature(filename, outputFilename):\n",
    "    # Get user supplied values\n",
    "    faceCascPath = \"haarcascade_frontalface_default.xml\"\n",
    "    eyeCascPath = \"haarcascade_eye.xml\"\n",
    "\n",
    "    # Create the haar cascade\n",
    "    faceCascade = cv2.CascadeClassifier(faceCascPath)\n",
    "    eyeCascade = cv2.CascadeClassifier(eyeCascPath)\n",
    "    # Read the image\n",
    "    image = cv2.imread(filename)\n",
    "    im = Image.open(\"filename)\n",
    "    gray = cv2.cvtColor(image, cv2.COLOR_BGR2GRAY)\n",
    "\n",
    "    # Detect faces in the image\n",
    "    faces = faceCascade.detectMultiScale(\n",
    "        gray,\n",
    "        scaleFactor=1.1,\n",
    "        minNeighbors=5,\n",
    "        minSize=(30, 30),\n",
    "        flags = cv2.CASCADE_SCALE_IMAGE\n",
    "    )\n",
    "    # Draw a rectangle around the faces\n",
    "    for (x, y, w, h) in faces:\n",
    "        cv2.rectangle(image, (x, y), (x+w, y+h), (0, 255, 0), 2)\n",
    "        roi_gray = gray[y:y+h, x:x+w]\n",
    "        roi_color = image[y:y+h, x:x+w]\n",
    "        eyes = eyeCascade.detectMultiScale(gray, 1.3, 5)\n",
    "\n",
    "        for (ex,ey,ew,eh) in eyes:\n",
    "            im2 = im.crop((ex, ey, ex+ew, ey+eh))\n",
    "            width, height = im2.size\n",
    "            im2 = im2.resize((round(width * 1.1), round(height * 1.1)))\n",
    "            im.paste(im2, (ex, ey))\n",
    "            im.save(outputFilename)\n",
    "            cv2.rectangle(image, (ex,ey), (ex+ew, ey+eh), (0,255,0), 2)\n"
   ]
  },
  {
   "cell_type": "markdown",
   "metadata": {},
   "source": [
    "fyfgu"
   ]
  },
  {
   "cell_type": "code",
   "execution_count": null,
   "metadata": {},
   "outputs": [],
   "source": [
    "\n"
   ]
  },
  {
   "cell_type": "code",
   "execution_count": null,
   "metadata": {},
   "outputs": [],
   "source": []
  }
 ],
 "metadata": {
  "kernelspec": {
   "display_name": "Python 3",
   "language": "python",
   "name": "python3"
  },
  "language_info": {
   "codemirror_mode": {
    "name": "ipython",
    "version": 3
   },
   "file_extension": ".py",
   "mimetype": "text/x-python",
   "name": "python",
   "nbconvert_exporter": "python",
   "pygments_lexer": "ipython3",
   "version": "3.7.5"
  }
 },
 "nbformat": 4,
 "nbformat_minor": 2
}
